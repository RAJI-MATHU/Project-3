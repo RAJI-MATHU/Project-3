{
 "cells": [
  {
   "cell_type": "markdown",
   "id": "8cafbb49-517b-4c4c-85d0-2201805c3651",
   "metadata": {},
   "source": [
    "# Streamlit Applicaton"
   ]
  },
  {
   "cell_type": "code",
   "execution_count": 2,
   "id": "7e6003b2-16e7-469f-a50e-b8146a8652c5",
   "metadata": {},
   "outputs": [],
   "source": [
    "import pandas as pd\n",
    "from sklearn.model_selection import train_test_split\n",
    "from sklearn.preprocessing import StandardScaler, OneHotEncoder\n",
    "from sklearn.ensemble import RandomForestRegressor\n",
    "from sklearn.metrics import mean_absolute_error, mean_squared_error, r2_score\n",
    "import numpy as np\n",
    "import pickle\n",
    "\n",
    "# Sample data loading (replace with your actual path)\n",
    "data = pd.read_excel('Cleaned_Cars_Data_Capped_Outlierss.xlsx')\n",
    "\n",
    "# Define columns\n",
    "important_numerical_cols = ['Width','YearofManufacture','kmsDriven', 'Length','Torque', 'Height', 'Mileage','GearBox',\n",
    "                            'No_owner', 'SeatingCapacity', 'Topspeed', 'Mileage']\n",
    "important_categorical_cols = ['City', 'fueltype', 'bodytype','oemodel', 'Color','Transmission',  'Steering Type','InsuranceValidity']\n",
    "\n",
    "# Define X and y\n",
    "X = data[important_numerical_cols + important_categorical_cols]\n",
    "y = data['price']\n",
    "\n",
    "# Separate numerical and categorical data\n",
    "X_numerical = X[important_numerical_cols]\n",
    "X_categorical = X[important_categorical_cols]\n",
    "\n",
    "# Scale numerical data\n",
    "scaler = StandardScaler()\n",
    "X_numerical_scaled = scaler.fit_transform(X_numerical)\n",
    "\n",
    "# Encode categorical data\n",
    "encoder = OneHotEncoder(handle_unknown='ignore')\n",
    "X_categorical_encoded = encoder.fit_transform(X_categorical).toarray()\n",
    "\n",
    "# Combine processed numerical and categorical data\n",
    "X_processed = np.hstack([X_numerical_scaled, X_categorical_encoded])\n",
    "\n"
   ]
  },
  {
   "cell_type": "code",
   "execution_count": 4,
   "id": "5b1620ec-ce54-405f-bf20-caa1cb422b04",
   "metadata": {},
   "outputs": [],
   "source": [
    "\n",
    "# Split data\n",
    "X_train, X_test, y_train, y_test = train_test_split(X_processed, y, test_size=0.3, random_state=0)\n",
    "\n",
    "# Train the model\n",
    "model = RandomForestRegressor()\n",
    "model.fit(X_train, y_train)\n",
    "\n",
    "# Evaluate the model\n",
    "y_pred = model.predict(X_test)\n"
   ]
  },
  {
   "cell_type": "code",
   "execution_count": 6,
   "id": "918062b1-0a10-4f1c-8adc-94a096133de3",
   "metadata": {},
   "outputs": [
    {
     "name": "stdout",
     "output_type": "stream",
     "text": [
      "Test MAE: 0.9531\n",
      "Test MSE: 3.4238\n",
      "Test R^2: 0.8477\n"
     ]
    }
   ],
   "source": [
    "mae = mean_absolute_error(y_test, y_pred)\n",
    "mse = mean_squared_error(y_test, y_pred)\n",
    "r2 = r2_score(y_test, y_pred)\n",
    "\n",
    "print(f\"Test MAE: {mae:.4f}\")\n",
    "print(f\"Test MSE: {mse:.4f}\")\n",
    "print(f\"Test R^2: {r2:.4f}\")\n"
   ]
  },
  {
   "cell_type": "code",
   "execution_count": 13,
   "id": "79ab0f5d-d3a8-4fb6-b018-8082fb87cd89",
   "metadata": {},
   "outputs": [
    {
     "name": "stdout",
     "output_type": "stream",
     "text": [
      "Model, scaler, and encoder saved successfully.\n"
     ]
    }
   ],
   "source": [
    "\n",
    "# Save the trained model, scaler, and encoder\n",
    "with open('car_price_model.pkl', 'wb') as file:\n",
    "    pickle.dump(model, file)\n",
    "\n",
    "with open('scaler.pkl', 'wb') as file:\n",
    "    pickle.dump(scaler, file)\n",
    "\n",
    "with open('encoder.pkl', 'wb') as file:\n",
    "    pickle.dump(encoder, file)\n",
    "\n",
    "print(\"Model, scaler, and encoder saved successfully.\")"
   ]
  },
  {
   "cell_type": "code",
   "execution_count": null,
   "id": "c21fc92b-a731-4385-8392-8d11ea5f77cf",
   "metadata": {},
   "outputs": [],
   "source": []
  }
 ],
 "metadata": {
  "kernelspec": {
   "display_name": "Python 3 (ipykernel)",
   "language": "python",
   "name": "python3"
  },
  "language_info": {
   "codemirror_mode": {
    "name": "ipython",
    "version": 3
   },
   "file_extension": ".py",
   "mimetype": "text/x-python",
   "name": "python",
   "nbconvert_exporter": "python",
   "pygments_lexer": "ipython3",
   "version": "3.11.5"
  }
 },
 "nbformat": 4,
 "nbformat_minor": 5
}
